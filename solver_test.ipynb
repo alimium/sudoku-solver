{
 "cells": [
  {
   "cell_type": "code",
   "execution_count": 12,
   "metadata": {},
   "outputs": [],
   "source": [
    "# Import block\n",
    "from sudoku import SudokuGame, SudokuSamples\n",
    "from sudoku.solver import BackTrackSolver, SelectionMethod\n",
    "import numpy as np\n",
    "import pandas as pd"
   ]
  },
  {
   "cell_type": "code",
   "execution_count": 16,
   "metadata": {},
   "outputs": [
    {
     "data": {
      "text/plain": [
       "['arto_inkala_9', 'david_filmer_9', 'medium_9', 'easy_9', 'easy_16']"
      ]
     },
     "execution_count": 16,
     "metadata": {},
     "output_type": "execute_result"
    }
   ],
   "source": [
    "results = {}\n",
    "sudoku_dict = SudokuSamples.__dict__\n",
    "sudoku_names = list(sudoku_dict.keys())[1:-9]\n",
    "sudoku_names"
   ]
  },
  {
   "cell_type": "code",
   "execution_count": 17,
   "metadata": {},
   "outputs": [
    {
     "name": "stdout",
     "output_type": "stream",
     "text": [
      "\u001b[H\u001b[2J\u001b[H\u001b[2J\u001b[H\u001b[2Jarto_inkala_9 - 10.136587381362915\n",
      "\u001b[H\u001b[2J\u001b[H\u001b[2J\u001b[H\u001b[2Jdavid_filmer_9 - 28.21346131960551\n",
      "\u001b[H\u001b[2J\u001b[H\u001b[2J\u001b[H\u001b[2Jmedium_9 - 2.3011147181193032\n",
      "\u001b[H\u001b[2J\u001b[H\u001b[2J\u001b[H\u001b[2Jeasy_9 - 0.5202450752258301\n",
      "\u001b[H\u001b[2J\u001b[H\u001b[2J\u001b[H\u001b[2Jeasy_16 - 4.709978818893433\n"
     ]
    }
   ],
   "source": [
    "# 9x9 Sudoku\n",
    "results = {}\n",
    "for s in sudoku_names:\n",
    "    arr = sudoku_dict[s]\n",
    "    game = SudokuGame(arr)\n",
    "    solver = BackTrackSolver(game, log=False)\n",
    "    res1 = solver.solve(selection=SelectionMethod.MOST_CONSTRAINED)\n",
    "    res2 = solver.solve(selection=SelectionMethod.MOST_CONSTRAINED)\n",
    "    res3 = solver.solve(selection=SelectionMethod.MOST_CONSTRAINED)\n",
    "    time = np.average([res1[\"time\"], res2[\"time\"], res3[\"time\"]])\n",
    "    print(f\"{s} - {time}\")\n",
    "    res1[\"time\"] = time\n",
    "    results[s] = res1"
   ]
  },
  {
   "cell_type": "code",
   "execution_count": 18,
   "metadata": {},
   "outputs": [],
   "source": [
    "results_table = pd.DataFrame(results)"
   ]
  },
  {
   "cell_type": "code",
   "execution_count": 21,
   "metadata": {},
   "outputs": [
    {
     "data": {
      "text/html": [
       "<div>\n",
       "<style scoped>\n",
       "    .dataframe tbody tr th:only-of-type {\n",
       "        vertical-align: middle;\n",
       "    }\n",
       "\n",
       "    .dataframe tbody tr th {\n",
       "        vertical-align: top;\n",
       "    }\n",
       "\n",
       "    .dataframe thead th {\n",
       "        text-align: right;\n",
       "    }\n",
       "</style>\n",
       "<table border=\"1\" class=\"dataframe\">\n",
       "  <thead>\n",
       "    <tr style=\"text-align: right;\">\n",
       "      <th></th>\n",
       "      <th>time</th>\n",
       "      <th>steps</th>\n",
       "      <th>backtracks</th>\n",
       "    </tr>\n",
       "  </thead>\n",
       "  <tbody>\n",
       "    <tr>\n",
       "      <th>arto_inkala_9</th>\n",
       "      <td>10.136587</td>\n",
       "      <td>1373</td>\n",
       "      <td>1313</td>\n",
       "    </tr>\n",
       "    <tr>\n",
       "      <th>david_filmer_9</th>\n",
       "      <td>28.213461</td>\n",
       "      <td>3684</td>\n",
       "      <td>3623</td>\n",
       "    </tr>\n",
       "    <tr>\n",
       "      <th>medium_9</th>\n",
       "      <td>2.301115</td>\n",
       "      <td>287</td>\n",
       "      <td>227</td>\n",
       "    </tr>\n",
       "    <tr>\n",
       "      <th>easy_9</th>\n",
       "      <td>0.520245</td>\n",
       "      <td>68</td>\n",
       "      <td>2</td>\n",
       "    </tr>\n",
       "    <tr>\n",
       "      <th>easy_16</th>\n",
       "      <td>4.709979</td>\n",
       "      <td>176</td>\n",
       "      <td>50</td>\n",
       "    </tr>\n",
       "  </tbody>\n",
       "</table>\n",
       "</div>"
      ],
      "text/plain": [
       "                     time steps backtracks\n",
       "arto_inkala_9   10.136587  1373       1313\n",
       "david_filmer_9  28.213461  3684       3623\n",
       "medium_9         2.301115   287        227\n",
       "easy_9           0.520245    68          2\n",
       "easy_16          4.709979   176         50"
      ]
     },
     "execution_count": 21,
     "metadata": {},
     "output_type": "execute_result"
    }
   ],
   "source": [
    "results_table.transpose().drop(columns=['solved', 'original'])"
   ]
  }
 ],
 "metadata": {
  "kernelspec": {
   "display_name": "ai_ml",
   "language": "python",
   "name": "python3"
  },
  "language_info": {
   "codemirror_mode": {
    "name": "ipython",
    "version": 3
   },
   "file_extension": ".py",
   "mimetype": "text/x-python",
   "name": "python",
   "nbconvert_exporter": "python",
   "pygments_lexer": "ipython3",
   "version": "3.9.10"
  },
  "orig_nbformat": 4
 },
 "nbformat": 4,
 "nbformat_minor": 2
}
