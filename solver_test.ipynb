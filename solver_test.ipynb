{
 "cells": [
  {
   "cell_type": "code",
   "execution_count": 1,
   "metadata": {},
   "outputs": [
    {
     "name": "stdout",
     "output_type": "stream",
     "text": [
      "Mac OS Version is 13.3.1 and patch enabled so applying the patch\n",
      "Applyting Mac OS 12.3+ Alpha Channel fix.  Your default Alpha Channel is now 0.99\n"
     ]
    }
   ],
   "source": [
    "# Import block\n",
    "from sudoku import SudokuGame, SudokuSamples\n",
    "from sudoku.solver import BackTrackSolver, SelectionMethod"
   ]
  },
  {
   "cell_type": "code",
   "execution_count": 9,
   "metadata": {},
   "outputs": [],
   "source": [
    "sudoku = SudokuSamples.arto_inkala\n",
    "game = SudokuGame(sudoku)\n",
    "solver = BackTrackSolver(game)"
   ]
  },
  {
   "cell_type": "code",
   "execution_count": 10,
   "metadata": {},
   "outputs": [
    {
     "name": "stdout",
     "output_type": "stream",
     "text": [
      "\u001b[H\u001b[2J\u001b[33m ------> \u001b[39mSOLVER [\u001b[33mBackTrackSolver\u001b[39m] |\tInitializing Solver, Checking Solvability...\n",
      "\u001b[33m ------> \u001b[39mSOLVER [\u001b[33mBackTrackSolver\u001b[39m] |\tGame Seems Solvable, Using Most Constrained Selection. Solving...\n",
      "\u001b[33m ------> \u001b[39mSOLVER [\u001b[33mBackTrackSolver\u001b[39m] |\tSteps: 200 | Backtracks: 166\n",
      "\u001b[33m ------> \u001b[39mSOLVER [\u001b[33mBackTrackSolver\u001b[39m] |\tSteps: 400 | Backtracks: 360\n",
      "\u001b[33m ------> \u001b[39mSOLVER [\u001b[33mBackTrackSolver\u001b[39m] |\tSteps: 600 | Backtracks: 578\n",
      "\u001b[33m ------> \u001b[39mSOLVER [\u001b[33mBackTrackSolver\u001b[39m] |\tSteps: 800 | Backtracks: 789\n",
      "\u001b[33m ------> \u001b[39mSOLVER [\u001b[33mBackTrackSolver\u001b[39m] |\tSteps: 1000 | Backtracks: 961\n",
      "\u001b[33m ------> \u001b[39mSOLVER [\u001b[33mBackTrackSolver\u001b[39m] |\tSteps: 1200 | Backtracks: 1159\n",
      "\u001b[33m ------> \u001b[39mSOLVER [\u001b[33mBackTrackSolver\u001b[39m] |\t\u001b[32mGame Solved\u001b[39m Using \u001b[33mMost Constrained Selection\u001b[39m in \u001b[33m1373 Steps\u001b[39m and \u001b[33m1313 Backtracks\u001b[39m in \u001b[33m10.01940131187439 Seconds\u001b[39m!\u001b[39m\n"
     ]
    }
   ],
   "source": [
    "result = solver.solve(selection=SelectionMethod.MOST_CONSTRAINED)"
   ]
  },
  {
   "cell_type": "code",
   "execution_count": 14,
   "metadata": {},
   "outputs": [
    {
     "ename": "",
     "evalue": "",
     "output_type": "error",
     "traceback": [
      "\u001b[1;31mThe Kernel crashed while executing code in the the current cell or a previous cell. Please review the code in the cell(s) to identify a possible cause of the failure. Click <a href='https://aka.ms/vscodeJupyterKernelCrash'>here</a> for more info. View Jupyter <a href='command:jupyter.viewOutput'>log</a> for further details."
     ]
    }
   ],
   "source": [
    "result[\"solved\"].draw()"
   ]
  },
  {
   "cell_type": "code",
   "execution_count": null,
   "metadata": {},
   "outputs": [],
   "source": []
  }
 ],
 "metadata": {
  "kernelspec": {
   "display_name": "ai_ml",
   "language": "python",
   "name": "python3"
  },
  "language_info": {
   "codemirror_mode": {
    "name": "ipython",
    "version": 3
   },
   "file_extension": ".py",
   "mimetype": "text/x-python",
   "name": "python",
   "nbconvert_exporter": "python",
   "pygments_lexer": "ipython3",
   "version": "3.9.10"
  },
  "orig_nbformat": 4
 },
 "nbformat": 4,
 "nbformat_minor": 2
}
