{
 "cells": [
  {
   "cell_type": "code",
   "execution_count": 1,
   "metadata": {},
   "outputs": [
    {
     "name": "stdout",
     "output_type": "stream",
     "text": [
      "Mac OS Version is 13.3.1 and patch enabled so applying the patch\n",
      "Applyting Mac OS 12.3+ Alpha Channel fix.  Your default Alpha Channel is now 0.99\n"
     ]
    }
   ],
   "source": [
    "# Import block\n",
    "from sudoku import SudokuGame, SudokuSamples\n",
    "from sudoku.solver import BackTrackSolver, SelectionMethod\n",
    "import numpy as np"
   ]
  },
  {
   "cell_type": "code",
   "execution_count": 2,
   "metadata": {},
   "outputs": [],
   "source": [
    "results = {}\n",
    "sudoku_dict = SudokuSamples.__dict__\n",
    "sudoku_names = list(sudoku_dict.keys())[1:-9]"
   ]
  },
  {
   "cell_type": "code",
   "execution_count": 3,
   "metadata": {},
   "outputs": [
    {
     "name": "stdout",
     "output_type": "stream",
     "text": [
      "\u001b[H\u001b[2J\u001b[H\u001b[2J\u001b[H\u001b[2Jarto_inkala_9 - 10.227788050969442\n",
      "\u001b[H\u001b[2J\u001b[H\u001b[2J\u001b[H\u001b[2Jdavid_filmer_9 - 28.442437012990315\n",
      "\u001b[H\u001b[2J\u001b[H\u001b[2J\u001b[H\u001b[2Jmedium_9 - 2.3210673332214355\n",
      "\u001b[H\u001b[2J\u001b[H\u001b[2J\u001b[H\u001b[2Jeasy_9 - 0.52188507715861\n",
      "\u001b[H\u001b[2J\u001b[H\u001b[2J\u001b[H\u001b[2Jeasy_16 - 4.7706436316172285\n"
     ]
    }
   ],
   "source": [
    "# 9x9 Sudoku\n",
    "for s in sudoku_names:\n",
    "    arr = sudoku_dict[s]\n",
    "    game = SudokuGame(arr)\n",
    "    solver = BackTrackSolver(game, log=False)\n",
    "    res1 = solver.solve(selection=SelectionMethod.MOST_CONSTRAINED)\n",
    "    res2 = solver.solve(selection=SelectionMethod.MOST_CONSTRAINED)\n",
    "    res3 = solver.solve(selection=SelectionMethod.MOST_CONSTRAINED)\n",
    "    time = np.average([res1[\"time\"], res2[\"time\"], res3[\"time\"]])\n",
    "    print(f\"{s} - {time}\")\n",
    "    res1[\"time\"] = time\n",
    "    results[s] = res1\n"
   ]
  }
 ],
 "metadata": {
  "kernelspec": {
   "display_name": "ai_ml",
   "language": "python",
   "name": "python3"
  },
  "language_info": {
   "codemirror_mode": {
    "name": "ipython",
    "version": 3
   },
   "file_extension": ".py",
   "mimetype": "text/x-python",
   "name": "python",
   "nbconvert_exporter": "python",
   "pygments_lexer": "ipython3",
   "version": "3.9.10"
  },
  "orig_nbformat": 4
 },
 "nbformat": 4,
 "nbformat_minor": 2
}
